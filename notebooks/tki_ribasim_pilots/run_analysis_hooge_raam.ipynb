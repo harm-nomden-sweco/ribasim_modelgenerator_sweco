{
 "cells": [
  {
   "cell_type": "code",
   "execution_count": null,
   "metadata": {},
   "outputs": [],
   "source": [
    "import sys\n",
    "from pathlib import Path\n",
    "import matplotlib.pyplot as plt\n",
    "\n",
    "import ribasim\n",
    "import ribasim_lumping\n",
    "from ribasim_lumping.ribasim_model_results import plot_results_basin_ribasim_model, \\\n",
    "    plot_results_basins_ribasim_model, get_ribasim_basin_data_from_model, read_ribasim_model_results\n",
    "\n",
    "import pandas as pd\n",
    "import geopandas as gpd\n",
    "import numpy as np\n",
    "import pyarrow as pa\n",
    "\n",
    "from numba.core.errors import NumbaDeprecationWarning\n",
    "import warnings\n",
    "\n",
    "warnings.simplefilter(\"ignore\")\n",
    "pd.options.mode.chained_assignment = None"
   ]
  },
  {
   "cell_type": "code",
   "execution_count": null,
   "metadata": {},
   "outputs": [],
   "source": [
    "%load_ext autoreload\n",
    "%autoreload 2"
   ]
  },
  {
   "cell_type": "markdown",
   "metadata": {},
   "source": [
    "#### BASIS OPZETTEN"
   ]
  },
  {
   "cell_type": "code",
   "execution_count": null,
   "metadata": {},
   "outputs": [],
   "source": [
    "# define network name, base dir\n",
    "network_name = \"tki_hooge_raam\"\n",
    "base_dir = Path(\"..\\\\..\\\\..\\\\ribasim_lumping_data\\\\\")\n",
    "\n",
    "# directory D-HYDRO basis calculations\n",
    "dhydro_basis_dir = Path(base_dir, network_name, \"2_dhydro\\\\basis\\\\\")\n",
    "\n",
    "# directory D-HYDRO results calculations\n",
    "dhydro_results_dir = Path(base_dir, network_name, \"2_dhydro\\\\results\\\\\")\n",
    "\n",
    "# directory results\n",
    "results_dir = Path(base_dir, network_name, \"3_ribasim\\\\\")\n",
    "\n",
    "# batch file used to calculate volume D-Hydro module per GridPoint\n",
    "dhydro_volume_tool_bat_file = Path(r\"c:\\Program Files\\Deltares\\D-HYDRO Suite 2023.03 1D2D\\plugins\\DeltaShell.Dimr\\kernels\\x64\\dflowfm\\scripts\\run_dfm_volume_tool.bat\")\n",
    "dhydro_volume_tool_increment = 0.1\n",
    "\n",
    "# link to ribasim_executable\n",
    "path_ribasim_executable = \"..\\\\..\\\\..\\\\ribasim_cli_windows\\\\bin\\\\ribasim.exe\""
   ]
  },
  {
   "cell_type": "code",
   "execution_count": null,
   "metadata": {},
   "outputs": [],
   "source": [
    "# Create networkanalysis\n",
    "network = ribasim_lumping.create_ribasim_lumping_network(\n",
    "    base_dir=base_dir,\n",
    "    name=network_name,\n",
    "    dhydro_basis_dir=dhydro_basis_dir,\n",
    "    dhydro_results_dir=dhydro_results_dir,\n",
    "    results_dir=results_dir,\n",
    "    path_ribasim_executable=path_ribasim_executable,\n",
    "    crs=28992\n",
    ")"
   ]
  },
  {
   "cell_type": "markdown",
   "metadata": {},
   "source": [
    "#### INLEZEN NETWERK EN SIMULATIE DATA"
   ]
  },
  {
   "cell_type": "code",
   "execution_count": null,
   "metadata": {},
   "outputs": [],
   "source": [
    "# Read network data and extract all objects (weirs/pumps/laterals/confluences/bifurcations)\n",
    "network.add_basis_network(\n",
    "    source_type=\"dhydro\",\n",
    "    set_name=\"winter\",\n",
    "    dhydro_model_dir=Path(dhydro_basis_dir, \"winter\"),\n",
    "    dhydro_simulation_name=\"HoogeRaamRibasim_afvoergolf.dsproj_data\",\n",
    "    dhydro_volume_tool_bat_file=dhydro_volume_tool_bat_file, \n",
    "    dhydro_volume_tool_force=False,\n",
    "    dhydro_volume_tool_increment=dhydro_volume_tool_increment\n",
    ");"
   ]
  },
  {
   "cell_type": "code",
   "execution_count": null,
   "metadata": {},
   "outputs": [],
   "source": [
    "# Select simulation sets and extract all data using xugrid/ugrid\n",
    "network.add_simulation_set(\n",
    "    source_type=\"dhydro\",\n",
    "    set_name=\"winter\",\n",
    "    model_dir=Path(dhydro_results_dir, \"winter\"),\n",
    "    simulation_names=[\"0_01\", \"0_02\", \"0_05\", \"0_075\", \"0_1\", \"0_2\", \"0_5\", \"0_75\", \"1_0\", \"1_5\", \"2_0\"],\n",
    "    simulation_ts=[-1],\n",
    ");"
   ]
  },
  {
   "cell_type": "code",
   "execution_count": null,
   "metadata": {},
   "outputs": [],
   "source": [
    "network.simulations_names"
   ]
  },
  {
   "cell_type": "markdown",
   "metadata": {},
   "source": [
    "#### OPZETTEN SIMULATIE"
   ]
  },
  {
   "cell_type": "code",
   "execution_count": null,
   "metadata": {},
   "outputs": [],
   "source": [
    "simulation_code = \"tki_hooge_raam_test\"\n",
    "set_name = \"winter\""
   ]
  },
  {
   "cell_type": "markdown",
   "metadata": {},
   "source": [
    "##### INLEZEN GEBIEDEN"
   ]
  },
  {
   "cell_type": "code",
   "execution_count": null,
   "metadata": {},
   "outputs": [],
   "source": [
    "# Load areas (discharge units: afwaterende eenheden)\n",
    "areas_dir               = Path(base_dir, network_name, \"1_data\", \"areas\")\n",
    "areas_file_name         = \"afwateringseenheden2023_v1_HoogeRaam.shp\"\n",
    "areas_code_column       = \"CODE\"\n",
    "network.read_areas(\n",
    "    areas_file_path=Path(areas_dir, areas_file_name), \n",
    "    areas_code_column=areas_code_column\n",
    ")"
   ]
  },
  {
   "cell_type": "code",
   "execution_count": null,
   "metadata": {},
   "outputs": [],
   "source": [
    "help(network.read_areas)"
   ]
  },
  {
   "cell_type": "markdown",
   "metadata": {},
   "source": [
    "##### DEFINIËREN AFVOER OVER DE TIJD (LITER / SECONDE / HECTARE)"
   ]
  },
  {
   "cell_type": "code",
   "execution_count": null,
   "metadata": {},
   "outputs": [],
   "source": [
    "# in this case we use the laterals which are pushed on the basis network schematisation\n",
    "network.laterals_data.sum(axis=1).plot(style=\"o-\")"
   ]
  },
  {
   "cell_type": "markdown",
   "metadata": {},
   "source": [
    "##### DEFINIËREN SPLIT-NODES IN HET NETWERK"
   ]
  },
  {
   "cell_type": "code",
   "execution_count": null,
   "metadata": {},
   "outputs": [],
   "source": [
    "network.add_split_nodes(\n",
    "    weirs=False,\n",
    "    pumps=False,\n",
    "    uniweirs=False,\n",
    "    culverts=False,\n",
    "    edges=False,\n",
    "    structures_ids_to_include=[\n",
    "        \"105HOO\", \"105LHW\", \"105HOE\", \"105ACS\", \"105BZS\", \"105BRG\", \"105PCS\", \n",
    "        \"105OMS\", \"105ADS\", \"105PVS\", \"105NBG\", \"105AES\", \"105LBW\", \"105BGA\", \n",
    "        \"105MKP\", \"105PDS\", \"105AFT\", \"105GLS\", \"105ADH\", \"105WEV\", \"105SBG\", \n",
    "        \"105OMK\", \"105NXV\", \"105VLW\", \"105PDT\", \"105OUS\", \"105OVS\", \"105OQS\", \n",
    "        \"105OXS\", \"105AHS\", \"105PET\", \"105PGS\", \"105PES\", \"105BZV\", \"105ABS\", \n",
    "        \"105PCL\", \"105BRM\", \"105PBK\", \"105SAW\", \"105NXS\", \"105ONS\", \"105BFA\", \n",
    "        \"105MPD\", \"105PLW\", \"105ADB\", \"105PBR\", \"105HHT\", \"105AKS\", \"105DHA\", \n",
    "        \"105PAS\", \"105RKW\", \"105ADK\", \"105PDR\", \"105AFS\", \"105AGS\", \"105BUS\", \n",
    "        \"105ZAN\", \n",
    "    ],\n",
    "    structures_ids_to_exclude=[],\n",
    "    edge_ids_to_include=[],\n",
    "    edge_ids_to_exclude=[],\n",
    ");"
   ]
  },
  {
   "cell_type": "markdown",
   "metadata": {},
   "source": [
    "##### GENEREREN VAN HET RIBASIM LUMPING NETWORK OP BASIS VAN DHYDRO NETWORK"
   ]
  },
  {
   "cell_type": "code",
   "execution_count": null,
   "metadata": {},
   "outputs": [],
   "source": [
    "network.generate_ribasim_lumping_network(\n",
    "    simulation_code=simulation_code,\n",
    "    include_flow_boundary_basins=False,\n",
    "    include_level_boundary_basins=False,\n",
    "    # option_edges_hydroobjects=True\n",
    ");"
   ]
  },
  {
   "cell_type": "markdown",
   "metadata": {},
   "source": [
    "##### DEFINIËREN VERTALING SPLITS-NODES NAAR RIBASIM-NODES (per type kunstwerk of per individuele split-node)"
   ]
  },
  {
   "cell_type": "code",
   "execution_count": null,
   "metadata": {},
   "outputs": [],
   "source": [
    "split_node_type_conversion = {\n",
    "    \"weir\": \"TabulatedRatingCurve\",\n",
    "    \"uniweir\": \"TabulatedRatingCurve\",\n",
    "    \"pump\": \"Pump\",\n",
    "    \"culvert\": \"TabulatedRatingCurve\",\n",
    "    \"edge\": \"ManningResistance\",\n",
    "    \"orifice\": \"Outlet\",\n",
    "}\n",
    "split_node_id_conversion = {}"
   ]
  },
  {
   "cell_type": "markdown",
   "metadata": {},
   "source": [
    "##### GENEREREN RIBASIM MODEL EN EXPORTEREN NAAR GEOPACKAGE"
   ]
  },
  {
   "cell_type": "code",
   "execution_count": null,
   "metadata": {},
   "outputs": [],
   "source": [
    "ribasim_model = network.generate_ribasim_model_complete(\n",
    "    set_name=set_name,\n",
    "    saveat=3600,\n",
    "    results_subgrid=True,\n",
    "    split_node_type_conversion=split_node_type_conversion\n",
    ")"
   ]
  },
  {
   "cell_type": "markdown",
   "metadata": {},
   "source": [
    "##### ************ RUN MODEL DOOR BAT-FILE TE DRAAIEN ************"
   ]
  },
  {
   "cell_type": "markdown",
   "metadata": {},
   "source": [
    "##### LEES RESULTATEN UIT RIBASIM MODEL EN CREËER PLOTS"
   ]
  },
  {
   "cell_type": "code",
   "execution_count": null,
   "metadata": {},
   "outputs": [],
   "source": [
    "ribasim_results = read_ribasim_model_results(\n",
    "    simulation_path=network.simulation_path\n",
    ")"
   ]
  },
  {
   "cell_type": "code",
   "execution_count": null,
   "metadata": {},
   "outputs": [],
   "source": [
    "# node_df = ribasim_model.network.node.df\n",
    "\n",
    "# for basin_no in node_df[node_df.node_type==\"Basin\"].node_id:\n",
    "#     # print(basin_no)\n",
    "#     basin_results = get_ribasim_basin_data_from_model(\n",
    "#         ribasim_model=ribasim_model, \n",
    "#         ribasim_results=ribasim_results, \n",
    "#         basin_no=basin_no\n",
    "#     )\n",
    "#     ribasim_model, ribasim_results, basin_results, fig, axes = plot_results_basin_ribasim_model(\n",
    "#         ribasim_model=ribasim_model,\n",
    "#         ribasim_results=ribasim_results,\n",
    "#         basin_results=basin_results\n",
    "#     );"
   ]
  },
  {
   "cell_type": "code",
   "execution_count": null,
   "metadata": {},
   "outputs": [],
   "source": []
  }
 ],
 "metadata": {
  "kernelspec": {
   "display_name": "ribasim",
   "language": "python",
   "name": "python3"
  },
  "language_info": {
   "codemirror_mode": {
    "name": "ipython",
    "version": 3
   },
   "file_extension": ".py",
   "mimetype": "text/x-python",
   "name": "python",
   "nbconvert_exporter": "python",
   "pygments_lexer": "ipython3",
   "version": "3.11.9"
  }
 },
 "nbformat": 4,
 "nbformat_minor": 4
}

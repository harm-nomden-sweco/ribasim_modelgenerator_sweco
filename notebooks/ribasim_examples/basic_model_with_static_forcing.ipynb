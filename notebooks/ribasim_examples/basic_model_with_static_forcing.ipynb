{
 "cells": [
  {
   "cell_type": "code",
   "execution_count": 1,
   "metadata": {},
   "outputs": [
    {
     "name": "stderr",
     "output_type": "stream",
     "text": [
      "c:\\Users\\NLHARN\\Documents\\PROGRAMMING\\ribasim_lumping_venv\\Lib\\site-packages\\dask\\dataframe\\__init__.py:31: FutureWarning: \n",
      "Dask dataframe query planning is disabled because dask-expr is not installed.\n",
      "\n",
      "You can install it with `pip install dask[dataframe]` or `conda install dask`.\n",
      "This will raise in a future version.\n",
      "\n",
      "  warnings.warn(msg, FutureWarning)\n",
      "c:\\Users\\NLHARN\\Documents\\PROGRAMMING\\ribasim_lumping_venv\\Lib\\site-packages\\dask\\dataframe\\__init__.py:31: FutureWarning: \n",
      "Dask dataframe query planning is disabled because dask-expr is not installed.\n",
      "\n",
      "You can install it with `pip install dask[dataframe]` or `conda install dask`.\n",
      "This will raise in a future version.\n",
      "\n",
      "  warnings.warn(msg, FutureWarning)\n",
      "c:\\Users\\NLHARN\\Documents\\PROGRAMMING\\ribasim_lumping_venv\\Lib\\site-packages\\tqdm\\auto.py:21: TqdmWarning: IProgress not found. Please update jupyter and ipywidgets. See https://ipywidgets.readthedocs.io/en/stable/user_install.html\n",
      "  from .autonotebook import tqdm as notebook_tqdm\n",
      "c:\\Users\\NLHARN\\Documents\\PROGRAMMING\\ribasim_lumping_venv\\Lib\\site-packages\\pydantic\\_internal\\_config.py:284: PydanticDeprecatedSince20: Support for class-based `config` is deprecated, use ConfigDict instead. Deprecated in Pydantic V2.0 to be removed in V3.0. See Pydantic V2 Migration Guide at https://errors.pydantic.dev/2.7/migration/\n",
      "  warnings.warn(DEPRECATION_MESSAGE, DeprecationWarning)\n",
      "c:\\Users\\NLHARN\\Documents\\PROGRAMMING\\ribasim_lumping_venv\\Lib\\site-packages\\pydantic\\_internal\\_config.py:284: PydanticDeprecatedSince20: Support for class-based `config` is deprecated, use ConfigDict instead. Deprecated in Pydantic V2.0 to be removed in V3.0. See Pydantic V2 Migration Guide at https://errors.pydantic.dev/2.7/migration/\n",
      "  warnings.warn(DEPRECATION_MESSAGE, DeprecationWarning)\n",
      "c:\\Users\\NLHARN\\Documents\\PROGRAMMING\\ribasim_lumping_venv\\Lib\\site-packages\\pydantic\\_internal\\_config.py:284: PydanticDeprecatedSince20: Support for class-based `config` is deprecated, use ConfigDict instead. Deprecated in Pydantic V2.0 to be removed in V3.0. See Pydantic V2 Migration Guide at https://errors.pydantic.dev/2.7/migration/\n",
      "  warnings.warn(DEPRECATION_MESSAGE, DeprecationWarning)\n"
     ]
    }
   ],
   "source": [
    "import geopandas as gpd\n",
    "import numpy as np\n",
    "import pandas as pd\n",
    "import matplotlib.pyplot as plt\n",
    "from pathlib import Path\n",
    "import sys\n",
    "import ribasim\n",
    "\n",
    "# add directory with ribasim_lumping-repository\n",
    "from ribasim_lumping.ribasim_model_results.ribasim_results import plot_results_basin_ribasim_model, plot_results_basins_ribasim_model"
   ]
  },
  {
   "cell_type": "code",
   "execution_count": 2,
   "metadata": {},
   "outputs": [],
   "source": [
    "import shutil\n",
    "from pathlib import Path\n",
    "\n",
    "import matplotlib.pyplot as plt\n",
    "import numpy as np\n",
    "import pandas as pd\n",
    "from ribasim import Allocation, Model, Node\n",
    "from ribasim.nodes import (\n",
    "    basin,\n",
    "    discrete_control,\n",
    "    flow_boundary,\n",
    "    fractional_flow,\n",
    "    level_boundary,\n",
    "    level_demand,\n",
    "    linear_resistance,\n",
    "    manning_resistance,\n",
    "    outlet,\n",
    "    pid_control,\n",
    "    pump,\n",
    "    tabulated_rating_curve,\n",
    "    user_demand,\n",
    ")\n",
    "from shapely.geometry import Point"
   ]
  },
  {
   "cell_type": "code",
   "execution_count": 3,
   "metadata": {},
   "outputs": [],
   "source": [
    "datadir = Path(\"data\")\n",
    "shutil.rmtree(datadir, ignore_errors=True)"
   ]
  },
  {
   "cell_type": "code",
   "execution_count": 4,
   "metadata": {},
   "outputs": [],
   "source": [
    "model = Model(starttime=\"2020-01-01\", endtime=\"2021-01-01\", crs=\"EPSG:4326\")"
   ]
  },
  {
   "cell_type": "code",
   "execution_count": 5,
   "metadata": {},
   "outputs": [],
   "source": [
    "time = pd.date_range(model.starttime, model.endtime)\n",
    "day_of_year = time.day_of_year.to_numpy()\n",
    "seconds_per_day = 24 * 60 * 60\n",
    "evaporation = (\n",
    "    (-1.0 * np.cos(day_of_year / 365.0 * 2 * np.pi) + 1.0) * 0.0025 / seconds_per_day\n",
    ")\n",
    "rng = np.random.default_rng(seed=0)\n",
    "precipitation = (\n",
    "    rng.lognormal(mean=-1.0, sigma=1.7, size=time.size) * 0.001 / seconds_per_day\n",
    ")\n",
    "\n",
    "# Convert steady forcing to m/s\n",
    "# 2 mm/d precipitation, 1 mm/d evaporation\n",
    "\n",
    "basin_data = [\n",
    "    basin.Profile(area=[0.01, 1000.0], level=[0.0, 1.0]),\n",
    "    basin.Time(\n",
    "        time=pd.date_range(model.starttime, model.endtime),\n",
    "        drainage=0.0,\n",
    "        potential_evaporation=evaporation,\n",
    "        infiltration=0.0,\n",
    "        precipitation=precipitation,\n",
    "        urban_runoff=0.0,\n",
    "    ),\n",
    "    basin.State(level=[1.4]),\n",
    "]\n",
    "\n",
    "model.basin.add(Node(1, Point(0.0, 0.0)), basin_data)\n",
    "model.basin.add(Node(3, Point(2.0, 0.0)), basin_data)\n",
    "model.basin.add(Node(6, Point(3.0, 2.0)), basin_data)\n",
    "model.basin.add(Node(9, Point(5.0, 0.0)), basin_data)"
   ]
  },
  {
   "cell_type": "code",
   "execution_count": null,
   "metadata": {},
   "outputs": [],
   "source": []
  },
  {
   "cell_type": "code",
   "execution_count": null,
   "metadata": {},
   "outputs": [],
   "source": []
  },
  {
   "cell_type": "code",
   "execution_count": null,
   "metadata": {},
   "outputs": [],
   "source": [
    "profile = pd.DataFrame(\n",
    "    data={\n",
    "        \"node_id\": [1, 1, 3, 3, 6, 6, 9, 9],\n",
    "        \"area\": [0.01, 1000.0] * 4,\n",
    "        \"level\": [0.0, 1.0] * 4,\n",
    "    }\n",
    ")\n",
    "\n",
    "# Convert steady forcing to m/s\n",
    "# 2 mm/d precipitation, 1 mm/d evaporation\n",
    "seconds_in_day = 24 * 3600\n",
    "precipitation = 0.002 / seconds_in_day\n",
    "evaporation = 0.001 / seconds_in_day\n",
    "\n",
    "static = pd.DataFrame(\n",
    "    data={\n",
    "        \"node_id\": [0],\n",
    "        \"drainage\": [0.0],\n",
    "        \"potential_evaporation\": [evaporation],\n",
    "        \"infiltration\": [0.0],\n",
    "        \"precipitation\": [precipitation],\n",
    "        \"urban_runoff\": [0.0],\n",
    "    }\n",
    ")\n",
    "static = static.iloc[[0, 0, 0, 0]]\n",
    "static[\"node_id\"] = [1, 3, 6, 9]\n",
    "\n",
    "basin = ribasim.Basin(profile=profile, static=static)"
   ]
  },
  {
   "cell_type": "code",
   "execution_count": null,
   "metadata": {},
   "outputs": [],
   "source": [
    "basin.static"
   ]
  },
  {
   "cell_type": "code",
   "execution_count": null,
   "metadata": {},
   "outputs": [],
   "source": [
    "basin.profile"
   ]
  },
  {
   "cell_type": "code",
   "execution_count": null,
   "metadata": {},
   "outputs": [],
   "source": [
    "linear_resistance = ribasim.LinearResistance(\n",
    "    static=pd.DataFrame(\n",
    "        data={\"node_id\": [10, 12], \"resistance\": [5e3, (3600.0 * 24) / 100.0]}\n",
    "    )\n",
    ")\n",
    "linear_resistance.static"
   ]
  },
  {
   "cell_type": "code",
   "execution_count": null,
   "metadata": {},
   "outputs": [],
   "source": [
    "manning_resistance = ribasim.ManningResistance(\n",
    "    static=pd.DataFrame(\n",
    "        data={\n",
    "            \"node_id\": [2],\n",
    "            \"length\": [900.0],\n",
    "            \"manning_n\": [0.04],\n",
    "            \"profile_width\": [6.0],\n",
    "            \"profile_slope\": [3.0],\n",
    "        }\n",
    "    )\n",
    ")\n",
    "manning_resistance.static"
   ]
  },
  {
   "cell_type": "code",
   "execution_count": null,
   "metadata": {},
   "outputs": [],
   "source": [
    "# Discharge: lose 1% of storage volume per day at storage = 1000.0.\n",
    "q1000 = 1000.0 * 0.01 / seconds_in_day\n",
    "\n",
    "rating_curve = ribasim.TabulatedRatingCurve(\n",
    "    static=pd.DataFrame(\n",
    "        data={\n",
    "            \"node_id\": [4, 4],\n",
    "            \"level\": [0.0, 1.0],\n",
    "            \"discharge\": [0.0, q1000],\n",
    "        }\n",
    "    )\n",
    ")\n",
    "rating_curve.static"
   ]
  },
  {
   "cell_type": "code",
   "execution_count": null,
   "metadata": {},
   "outputs": [],
   "source": [
    "fractional_flow = ribasim.FractionalFlow(\n",
    "    static=pd.DataFrame(\n",
    "        data={\n",
    "            \"node_id\": [5, 8, 13],\n",
    "            \"fraction\": [0.3, 0.6, 0.1],\n",
    "        }\n",
    "    )\n",
    ")\n",
    "fractional_flow.static"
   ]
  },
  {
   "cell_type": "code",
   "execution_count": null,
   "metadata": {},
   "outputs": [],
   "source": [
    "pump = ribasim.Pump(\n",
    "    static=pd.DataFrame(\n",
    "        data={\n",
    "            \"node_id\": [7],\n",
    "            \"flow_rate\": [0.5 / 3600],\n",
    "        }\n",
    "    )\n",
    ")\n",
    "pump.static"
   ]
  },
  {
   "cell_type": "code",
   "execution_count": null,
   "metadata": {},
   "outputs": [],
   "source": [
    "level_boundary = ribasim.LevelBoundary(\n",
    "    static=pd.DataFrame(\n",
    "        data={\n",
    "            \"node_id\": [11, 17],\n",
    "            \"level\": [0.5, 1.5],\n",
    "        }\n",
    "    )\n",
    ")"
   ]
  },
  {
   "cell_type": "code",
   "execution_count": null,
   "metadata": {},
   "outputs": [],
   "source": [
    "level_boundary.static"
   ]
  },
  {
   "cell_type": "code",
   "execution_count": null,
   "metadata": {},
   "outputs": [],
   "source": [
    "level_boundary.time"
   ]
  },
  {
   "cell_type": "code",
   "execution_count": null,
   "metadata": {},
   "outputs": [],
   "source": [
    "flow_boundary = ribasim.FlowBoundary(\n",
    "    static=pd.DataFrame(\n",
    "        data={\n",
    "            \"node_id\": [15, 16],\n",
    "            \"flow_rate\": [1e-4, 1e-4],\n",
    "        }\n",
    "    )\n",
    ")\n",
    "flow_boundary.static"
   ]
  },
  {
   "cell_type": "code",
   "execution_count": null,
   "metadata": {},
   "outputs": [],
   "source": [
    "terminal = ribasim.Terminal(\n",
    "    static=pd.DataFrame(\n",
    "        data={\n",
    "            \"node_id\": [14],\n",
    "        }\n",
    "    )\n",
    ")\n",
    "terminal.static"
   ]
  },
  {
   "cell_type": "code",
   "execution_count": null,
   "metadata": {},
   "outputs": [],
   "source": [
    "xy = np.array(\n",
    "    [\n",
    "        (0.0, 0.0),  # 1: Basin,\n",
    "        (1.0, 0.0),  # 2: ManningResistance\n",
    "        (2.0, 0.0),  # 3: Basin\n",
    "        (3.0, 0.0),  # 4: TabulatedRatingCurve\n",
    "        (3.0, 1.0),  # 5: FractionalFlow\n",
    "        (3.0, 2.0),  # 6: Basin\n",
    "        (4.0, 1.0),  # 7: Pump\n",
    "        (4.0, 0.0),  # 8: FractionalFlow\n",
    "        (5.0, 0.0),  # 9: Basin\n",
    "        (6.0, 0.0),  # 10: LinearResistance\n",
    "        (2.0, 2.0),  # 11: LevelBoundary\n",
    "        (2.0, 1.0),  # 12: LinearResistance\n",
    "        (3.0, -1.0),  # 13: FractionalFlow\n",
    "        (3.0, -2.0),  # 14: Terminal\n",
    "        (3.0, 3.0),  # 15: FlowBoundary\n",
    "        (0.0, 1.0),  # 16: FlowBoundary\n",
    "        (6.0, 1.0),  # 17: LevelBoundary\n",
    "    ]\n",
    ")\n",
    "node_xy = gpd.points_from_xy(x=xy[:, 0], y=xy[:, 1])\n",
    "\n",
    "node_id, node_type = ribasim.Node.get_node_ids_and_types(\n",
    "    basin,\n",
    "    manning_resistance,\n",
    "    rating_curve,\n",
    "    pump,\n",
    "    fractional_flow,\n",
    "    linear_resistance,\n",
    "    level_boundary,\n",
    "    flow_boundary,\n",
    "    terminal,\n",
    ")\n",
    "\n",
    "# Make sure the feature id starts at 1: explicitly give an index.\n",
    "node = ribasim.Node(\n",
    "    static=gpd.GeoDataFrame(\n",
    "        data={\"type\": node_type},\n",
    "        index=pd.Index(node_id, name=\"fid\"),\n",
    "        geometry=node_xy,\n",
    "        crs=\"EPSG:28992\",\n",
    "    )\n",
    ")\n",
    "node.static"
   ]
  },
  {
   "cell_type": "code",
   "execution_count": null,
   "metadata": {},
   "outputs": [],
   "source": [
    "from_id = np.array(\n",
    "    [1, 2, 3, 4, 4, 5, 6, 8, 7, 9, 11, 12, 4, 13, 15, 16, 10], dtype=np.int64\n",
    ")\n",
    "to_id = np.array(\n",
    "    [2, 3, 4, 5, 8, 6, 7, 9, 9, 10, 12, 3, 13, 14, 6, 1, 17], dtype=np.int64\n",
    ")\n",
    "lines = ribasim.utils.geometry_from_connectivity(node, from_id, to_id)\n",
    "edge = ribasim.Edge(\n",
    "    static=gpd.GeoDataFrame(\n",
    "        data={\n",
    "            \"from_node_id\": from_id,\n",
    "            \"to_node_id\": to_id,\n",
    "            \"edge_type\": len(from_id) * [\"flow\"],\n",
    "        },\n",
    "        geometry=lines,\n",
    "        crs=\"EPSG:28992\",\n",
    "    )\n",
    ")\n",
    "lines"
   ]
  },
  {
   "cell_type": "code",
   "execution_count": null,
   "metadata": {},
   "outputs": [],
   "source": [
    "model = ribasim.Model(\n",
    "    modelname=\"basic\",\n",
    "    node=node,\n",
    "    edge=edge,\n",
    "    basin=basin,\n",
    "    level_boundary=level_boundary,\n",
    "    flow_boundary=flow_boundary,\n",
    "    pump=pump,\n",
    "    linear_resistance=linear_resistance,\n",
    "    manning_resistance=manning_resistance,\n",
    "    tabulated_rating_curve=rating_curve,\n",
    "    fractional_flow=fractional_flow,\n",
    "    terminal=terminal,\n",
    "    starttime=\"2020-01-01 00:00:00\",\n",
    "    endtime=\"2021-01-01 00:00:00\",\n",
    ")"
   ]
  },
  {
   "cell_type": "code",
   "execution_count": null,
   "metadata": {},
   "outputs": [],
   "source": [
    "model.plot()"
   ]
  },
  {
   "cell_type": "code",
   "execution_count": null,
   "metadata": {},
   "outputs": [],
   "source": [
    "node.static"
   ]
  },
  {
   "cell_type": "code",
   "execution_count": null,
   "metadata": {},
   "outputs": [],
   "source": [
    "results_dir = \"..\\\\..\\\\..\\\\ribasim_lumping_data\\\\examples\"\n",
    "simulation_code = \"basic_model_with_static_forcing\"\n",
    "simulation_path = Path(results_dir, simulation_code)"
   ]
  },
  {
   "cell_type": "code",
   "execution_count": null,
   "metadata": {},
   "outputs": [],
   "source": [
    "model.solver = {\"abstol\": 1e-10, \"reltol\": 1e-8}\n",
    "model.write(simulation_path)\n",
    "bat_file = Path(simulation_path, \"run_ribasim.bat\")\n",
    "with open(bat_file, \"w\") as f:\n",
    "    f.write(\"..\\\\..\\\\ribasim_cli\\\\bin\\\\ribasim.exe ribasim.toml\\n\")"
   ]
  },
  {
   "cell_type": "code",
   "execution_count": null,
   "metadata": {},
   "outputs": [],
   "source": [
    "plot_results_basins_ribasim_model(\n",
    "    ribasim_model=model,\n",
    "    simulation_path=simulation_path,\n",
    ")"
   ]
  },
  {
   "cell_type": "code",
   "execution_count": null,
   "metadata": {},
   "outputs": [],
   "source": []
  }
 ],
 "metadata": {
  "kernelspec": {
   "display_name": "ribasim_lumping",
   "language": "python",
   "name": "python3"
  },
  "language_info": {
   "codemirror_mode": {
    "name": "ipython",
    "version": 3
   },
   "file_extension": ".py",
   "mimetype": "text/x-python",
   "name": "python",
   "nbconvert_exporter": "python",
   "pygments_lexer": "ipython3",
   "version": "3.11.9"
  }
 },
 "nbformat": 4,
 "nbformat_minor": 2
}
